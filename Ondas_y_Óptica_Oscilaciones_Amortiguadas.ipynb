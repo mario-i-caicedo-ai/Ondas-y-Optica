{
  "nbformat": 4,
  "nbformat_minor": 0,
  "metadata": {
    "colab": {
      "name": "Ondas_y_Óptica-Oscilaciones_Amortiguadas.ipynb",
      "provenance": [],
      "authorship_tag": "ABX9TyNVzq/ANvXqa2u2aoUrEpfq",
      "include_colab_link": true
    },
    "kernelspec": {
      "name": "python3",
      "display_name": "Python 3"
    },
    "language_info": {
      "name": "python"
    }
  },
  "cells": [
    {
      "cell_type": "markdown",
      "metadata": {
        "id": "view-in-github",
        "colab_type": "text"
      },
      "source": [
        "<a href=\"https://colab.research.google.com/github/mario-i-caicedo-ai/Ondas-y-Optica/blob/main/Ondas_y_%C3%93ptica_Oscilaciones_Amortiguadas.ipynb\" target=\"_parent\"><img src=\"https://colab.research.google.com/assets/colab-badge.svg\" alt=\"Open In Colab\"/></a>"
      ]
    },
    {
      "cell_type": "markdown",
      "metadata": {
        "id": "BaT_1q8jOhxn"
      },
      "source": [
        "# Ondas y Óptica\n",
        "\n",
        "## Oscilaciones Amortiguadas\n",
        "\n",
        "### Prof. Mario I. Caicedo\n",
        "\n"
      ]
    },
    {
      "cell_type": "markdown",
      "metadata": {
        "id": "QIObF8ADV09y"
      },
      "source": [
        "\n",
        "Objetivo de este cuaderno: \n",
        "\n",
        "* Considerando la ecuación de oscilaciones amortiguadas\n",
        "\n",
        "$$\\ddot{x}+2\\beta{}\\dot{x}+\\omega_0^2\\,x(t)=0$$\n",
        "\n",
        "* Mostrar el comportamiento de la solución\n",
        "\n",
        "$$x(t)=e^{-\\beta{}t}\\,cos(\\sqrt{\\omega_0^2-\\beta^2}\\,t+\\phi)$$\n",
        "\n",
        "para las condiciones iniciales:\n",
        "\n",
        "$x(0)=1$, $\\dot{x}(0)=0$"
      ]
    },
    {
      "cell_type": "markdown",
      "metadata": {
        "id": "KwSFHDG8PXDh"
      },
      "source": [
        "## Bibliotecas"
      ]
    },
    {
      "cell_type": "code",
      "metadata": {
        "id": "-EltPjsOGInz"
      },
      "source": [
        "import numpy as np\n",
        "import matplotlib.pyplot as plt"
      ],
      "execution_count": 1,
      "outputs": []
    },
    {
      "cell_type": "markdown",
      "metadata": {
        "id": "V5gYdEH0P089"
      },
      "source": [
        "Definiendo $x(t)$"
      ]
    },
    {
      "cell_type": "code",
      "metadata": {
        "id": "Myr6lF_jHSn1"
      },
      "source": [
        "def x_sub(tiempo,beta,omega_0,phi):\n",
        "  omega_1=np.sqrt(omega_0**2-beta**2)\n",
        "  xt=np.exp(-beta*tiempo)*np.cos(omega_1*tiempo+phi)\n",
        "  return xt"
      ],
      "execution_count": 2,
      "outputs": []
    },
    {
      "cell_type": "code",
      "metadata": {
        "id": "48jgDAszyhm4"
      },
      "source": [
        "def x_crit(tiempo,beta,A,B):\n",
        "  xt=np.exp(-beta*tiempo)*(A+B*tiempo)\n",
        "  return xt"
      ],
      "execution_count": 3,
      "outputs": []
    },
    {
      "cell_type": "code",
      "metadata": {
        "id": "4Nqxn0QFy5Sn"
      },
      "source": [
        "def x_sobre(tiempo,beta,omega_0,A_1,A_2):\n",
        "  omega_2=np.sqrt(beta**2-omega_0**2)\n",
        "  xt=np.exp(-beta*tiempo)*(A_1*np.exp(omega_2*tiempo)+A_2*np.exp(-omega_2*tiempo))\n",
        "  return xt"
      ],
      "execution_count": 4,
      "outputs": []
    },
    {
      "cell_type": "markdown",
      "metadata": {
        "id": "mbWkxDpVP5gV"
      },
      "source": [
        "Estas dos instrucciones definen\n",
        "\n",
        "* El intervalo temporal que queremos estudiar definido como un arreglo de valores entre 0 y 2 espaciados en un intevalo deltat "
      ]
    },
    {
      "cell_type": "code",
      "metadata": {
        "id": "ybyot5TZGOa_"
      },
      "source": [
        "deltat=0.01\n",
        "tiempo = np.arange(0.0, 1.0, deltat) \n",
        "x_t=np.zeros(len(tiempo),float)"
      ],
      "execution_count": 5,
      "outputs": []
    },
    {
      "cell_type": "markdown",
      "metadata": {
        "id": "tvFdZV3cQYe6"
      },
      "source": [
        "Parametrización del sistema\n",
        "\n",
        "Recordar que la frecuencia angular está dada por $\\omega_0=2\\pi{}f$\n",
        "\n",
        "Si ponemos $f=frec=4$ y $\\beta=0$ deberíamos ver 8 ciclos completos.\n",
        "Si pensamos que el tiempo está en segundos, la frecuencia estará en Hertz (1/s)\n"
      ]
    },
    {
      "cell_type": "code",
      "metadata": {
        "id": "TKAzdt9RQofE"
      },
      "source": [
        "frec=4. #Hz\n",
        "omega_0=2*np.pi*frec"
      ],
      "execution_count": 6,
      "outputs": []
    },
    {
      "cell_type": "markdown",
      "metadata": {
        "id": "RqMs0iNFRNBM"
      },
      "source": [
        "Definiendo $\\beta$ para los regímenes de interés.\n",
        "\n",
        "* Subamortiguamiento  $\\omega_0^2>\\beta^2$\n",
        "* Amortiguamiento crítico $\\omega_0^2=\\beta^2$\n",
        "* Sobreamortiguamiento $\\omega_0^2<\\beta^2$\n"
      ]
    },
    {
      "cell_type": "code",
      "metadata": {
        "id": "eK_PFapWR9KY"
      },
      "source": [
        "beta_sub=0.08*omega_0\n",
        "#beta_crit=omega_0\n",
        "beta_sobre=2.*omega_0"
      ],
      "execution_count": 13,
      "outputs": []
    },
    {
      "cell_type": "markdown",
      "metadata": {
        "id": "68lbSzTGWoH2"
      },
      "source": [
        "Calculo de las series de datos de las soluciones en los tres regímenes recuérdese que las condiciones iniciales son $x(0)=1$, $\\dot{x}(0)=0$"
      ]
    },
    {
      "cell_type": "code",
      "metadata": {
        "id": "vjbj9SqXIZLu"
      },
      "source": [
        "phi=0 # Esta escogencia satisface las C.I.\n",
        "x_s=x_sub(tiempo,beta_sub,omega_0,phi)"
      ],
      "execution_count": 14,
      "outputs": []
    },
    {
      "cell_type": "code",
      "metadata": {
        "id": "p1hNpBNc1cFI"
      },
      "source": [
        "A=1.\n",
        "B=1.\n",
        "x_c=x_crit(tiempo,omega_0,A,B)"
      ],
      "execution_count": 10,
      "outputs": []
    },
    {
      "cell_type": "code",
      "metadata": {
        "id": "s_8C4-De1sAD"
      },
      "source": [
        "A_1=0.\n",
        "A_2=1.\n",
        "x_sob=x_sobre(tiempo,beta_sobre,omega_0,A_1,A_2)"
      ],
      "execution_count": 11,
      "outputs": []
    },
    {
      "cell_type": "markdown",
      "metadata": {
        "id": "LHre9p5ZW1DF"
      },
      "source": [
        "Graficación"
      ]
    },
    {
      "cell_type": "code",
      "metadata": {
        "colab": {
          "base_uri": "https://localhost:8080/",
          "height": 404
        },
        "id": "GzcuXOQUIfzH",
        "outputId": "369c4ad7-8f08-4ed9-a5ed-19f63fcd8af3"
      },
      "source": [
        "fig, ax= plt.subplots(1,figsize=(8, 6))\n",
        "\n",
        "ax.plot(tiempo, x_s, color=\"green\", label=\"Subamortiguamiento\")\n",
        "ax.plot(tiempo, x_c, color=\"red\", label=\"Amortiguamiento Crítico\")\n",
        "ax.plot(tiempo, x_sob, color=\"blue\", label=\"Sobreamortiguamiento\")\n",
        "\n",
        "\n",
        "ax.set(xlabel='tiempo (s)', ylabel='x(t)',\n",
        "       title='Oscilaciones amortiguadas')\n",
        "ax.grid()\n",
        "\n",
        "plt.legend(loc=\"lower right\", title=\"Leyenda\", frameon=False)\n",
        "fig.savefig(\"test.png\")\n",
        "plt.show()"
      ],
      "execution_count": 15,
      "outputs": [
        {
          "output_type": "display_data",
          "data": {
            "image/png": "[encoded data removed]",
            "text/plain": [
              "<Figure size 576x432 with 1 Axes>"
            ]
          },
          "metadata": {
            "tags": [],
            "needs_background": "light"
          }
        }
      ]
    },
    {
      "cell_type": "markdown",
      "metadata": {
        "id": "klcxRe_uXlT5"
      },
      "source": [
        "## Ejercicios:\n",
        "\n",
        "1. Corra el cuaderno cambiando los valores de beta y de una interpretación física de sus resultados **[extra: incluya unas líneas de código que le permitan hacer estos cambios de fomra interactiva]**\n",
        "\n",
        "2. Incluya en el gráfico la envolvente de la ley de movimiento en el caso **subamortiguado**\n",
        "\n",
        "3. Haga una función que calcule $\\dot{x}(t)$\n",
        "\n",
        "3. Use matplotlib para hacer gráficos de $\\dot{x}(t)$ vs $x(t)$ [apóyese en el ejemplo que sigue]\n"
      ]
    },
    {
      "cell_type": "code",
      "metadata": {
        "id": "UHLXoA4jYzwo"
      },
      "source": [
        "# Graficación paramétrica de una ELIPSE\n",
        "\n",
        "n=64\n",
        "\n",
        "t=np.linspace(0.,2.*np.pi,n+1) # Parámetro\n",
        "\n",
        "x=1.5*np.cos(t)\n",
        "\n",
        "y=3.*np.sin(t)\n",
        "\n",
        "plt.grid()\n",
        "plt.axis(\"equal\")\n",
        "plt.plot(x,y)\n",
        "plt.show()"
      ],
      "execution_count": null,
      "outputs": []
    },
    {
      "cell_type": "code",
      "metadata": {
        "id": "dCXYNteIXnFO"
      },
      "source": [
        ""
      ],
      "execution_count": null,
      "outputs": []
    }
  ]
}