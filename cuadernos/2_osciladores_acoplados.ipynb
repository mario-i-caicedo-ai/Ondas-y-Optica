{
  "nbformat": 4,
  "nbformat_minor": 0,
  "metadata": {
    "colab": {
      "name": "2 osciladores acoplados.ipynb",
      "provenance": [],
      "collapsed_sections": [],
      "authorship_tag": "ABX9TyM1UWw44lAp7d6x1+LK4457",
      "include_colab_link": true
    },
    "kernelspec": {
      "name": "python3",
      "display_name": "Python 3"
    }
  },
  "cells": [
    {
      "cell_type": "markdown",
      "metadata": {
        "id": "view-in-github",
        "colab_type": "text"
      },
      "source": [
        "<a href=\"https://colab.research.google.com/github/mario-i-caicedo-ai/Ondas-y-Optica/blob/main/cuadernos/2_osciladores_acoplados.ipynb\" target=\"_parent\"><img src=\"https://colab.research.google.com/assets/colab-badge.svg\" alt=\"Open In Colab\"/></a>"
      ]
    },
    {
      "cell_type": "markdown",
      "metadata": {
        "id": "JFrN9719v5SM"
      },
      "source": [
        "# Ondas y Óptica\n",
        "\n",
        "### Oscilaciones acopladas: el caso de dos osciladores.\n",
        "\n",
        "\n",
        "Prof.Mario I. Caicedo"
      ]
    },
    {
      "cell_type": "markdown",
      "metadata": {
        "id": "AvYyS5drwxv8"
      },
      "source": [
        "---------------------------------------------"
      ]
    },
    {
      "cell_type": "code",
      "metadata": {
        "id": "_QhkijUKXRE8"
      },
      "source": [
        "from numpy import sin, cos\n",
        "import numpy as np\n",
        "import matplotlib.pyplot as plt\n",
        "import scipy.integrate as integrate\n",
        "import matplotlib.animation as animation"
      ],
      "execution_count": null,
      "outputs": []
    },
    {
      "cell_type": "markdown",
      "metadata": {
        "id": "t9O3gbipw2Py"
      },
      "source": [
        "-----------------------------------------------"
      ]
    },
    {
      "cell_type": "markdown",
      "metadata": {
        "id": "ijNIpEQVXb7L"
      },
      "source": [
        "# Sistema: \n",
        "\n",
        "## Dos osciladores acoplados\n",
        "* Las posiciones de equilibrio de los osciladores son $0<eq_1<eq_2$\n",
        "* $\\xi_1,\\xi_2\\in\\mathcal{R}$ son las desviaciones respecto al equilibrio \n",
        "* Las posiciones de los osciladores son $x_i=\\xi+eq_1$ \n",
        "* La longitud de equilibrio del resorte de acoplamiento es $\\ell=eq_2-eq_1$\n",
        "* En consecuencia, las fuerzas ejercidas sobre cada punto material son:\n",
        "\n",
        "$$\\vec{F}_1=\\left[-k_1(x_1-eq_1)+\\kappa(x_2-x_1-\\ell)\\right]\\,\\hat{\\mathbf{e}}_1=\\left[-k_1(\\xi_1+eq_1-eq_1)+\\kappa(\\xi_2+eq_2-\\xi_1-eq_1-\\ell)\\right]\\,\\hat{\\mathbf{e}}_1$$\n",
        "\n",
        "$$\\vec{F}_2=\\left[-k_1(x_2-eq_2)-\\kappa(x_2-x_1-\\ell)\\right]\\,\\hat{\\mathbf{e}}_1$$\n",
        "\n",
        "* La aceleración de cada partícula es \n",
        "\n",
        "$$\\vec{a}_i=\\ddot{x}_i\\,\\hat{\\mathbf{e}}_i=\\frac{d^2(\\xi_i+eq_i)}{dt^2}=\\ddot{\\xi}_i\\,\\hat{\\mathbf{e}}_i$$\n",
        "\n"
      ]
    },
    {
      "cell_type": "markdown",
      "metadata": {
        "id": "hATcuWziw8Wc"
      },
      "source": [
        "---------------------------------------"
      ]
    },
    {
      "cell_type": "markdown",
      "metadata": {
        "id": "nguuH-DudYpb"
      },
      "source": [
        "### **RESUMEN**\n",
        "\n",
        "* Fuerzas\n",
        "\n",
        "$$\\vec{F}_1=\\left[-k_1\\,\\xi_1+\\kappa(\\xi_2-\\xi_1)\\right]\\,\\hat{\\mathbf{e}}_1$$\n",
        "\n",
        "$$\\vec{F}_2=\\left[-k_1\\xi_2-\\kappa(\\xi_2-\\xi_1\\right]\\,\\hat{\\mathbf{e}}_1$$\n",
        "\n",
        "* Ecuaciones de movimiento\n",
        "\n",
        "$$\\ddot{\\xi}_1=-\\omega_1^2\\,\\xi_1+\\frac{\\kappa}{M_1}(\\xi_2-\\xi_1)$$\n",
        "\n",
        "$$\\ddot{\\xi}_2=-\\omega_2^2\\,\\xi_2-\\frac{\\kappa}{M_1}(\\xi_2-\\xi_1)$$"
      ]
    },
    {
      "cell_type": "markdown",
      "metadata": {
        "id": "9ChnronJxd_b"
      },
      "source": [
        "* Sistema de primer orden equivalente: \n",
        "\n",
        "LOs métodos numéricos están diseñados para resolver sistemas de ecuaciones diferenciales de **primer orden**\n",
        "\n",
        "$$\\dot{\\xi}_1=v_1$$\n",
        "\n",
        "$$\\dot{v}_1=-\\omega_1^2\\,\\xi_1+\\frac{\\kappa}{M_1}(\\xi_2-\\xi_1)$$\n",
        "\n",
        "$$\\dot{\\xi}_2=v_2$$\n",
        "\n",
        "$$\\dot{v}_2=-\\omega_2^2\\,\\xi_2-\\frac{\\kappa}{M_1}(\\xi_2-\\xi_1)$$"
      ]
    },
    {
      "cell_type": "markdown",
      "metadata": {
        "id": "epbEwlSaxUds"
      },
      "source": [
        "-----------------------------------------------"
      ]
    },
    {
      "cell_type": "markdown",
      "metadata": {
        "id": "qicU9EdPyE-_"
      },
      "source": [
        "Definición del sistema de primer orden a travéd de una función de Python [este paso es absolutamente necesario para invocar al integrador]"
      ]
    },
    {
      "cell_type": "code",
      "metadata": {
        "id": "CP0nQO18Xm04"
      },
      "source": [
        "def derivs(xi, t):\n",
        "\n",
        "    # xi[0] y xi2[2] son $\\xi_1$ y $\\xi_2$\n",
        "\n",
        "    dydx = np.zeros_like(xi)\n",
        "\n",
        "    delta=xi[2]-xi[0]\n",
        "\n",
        "    dydx[0] = xi[1] # xi[1] is $\\dot{\\xi}_1$\n",
        "\n",
        "    dydx[1] = -omega1_2*xi[0]+kappa*delta/M1\n",
        "\n",
        "    dydx[2] = xi[3] # xi[3] is $\\dot{\\xi}_2$\n",
        "\n",
        "    dydx[3] = -omega1_2*xi[2]-kappa*delta/M2\n",
        "\n",
        "    return dydx"
      ],
      "execution_count": null,
      "outputs": []
    },
    {
      "cell_type": "markdown",
      "metadata": {
        "id": "tB303ebdat86"
      },
      "source": [
        "## Parámetros del sistema\n",
        "\n",
        "* $k$ constantes de los resortes \"duros\"\n",
        "* $\\kappa$ constante del resorte suave\n",
        "* $M_1,M_2$ masas de los puntos materiales\n",
        "* $eq_1,eq_2$ posiciones de equilibrio de los puntos materiales\n",
        "* $\\ell_0=eq_2-eq_1$ longitud de equilibrio del resorte suave\n",
        "* $\\omega_{1}^2=k/M_1,\\omega_{2}^2=k/M_2$"
      ]
    },
    {
      "cell_type": "code",
      "metadata": {
        "id": "6bWSvQ6mWqu_"
      },
      "source": [
        "k = 1.0  # Constante de resortes ''duros'' (Nw/m)\n",
        "kappa = 0.5  # Constante del resorte 'suave' (o de acoplamiento)\n",
        "M1 = 1.0  # masa 1 en kg\n",
        "M2 = 1.0  # masa 2  en kg\n",
        "eq_1=1.0 # Posición de equilibrio de la masa 1 (m)\n",
        "eq_2=3.0 # Posición de eq. de la masa 2 (m)\n",
        "\n",
        "# Cuadrados de las frecuencias angulares  naturales de ambos osciladores\n",
        "\n",
        "omega1_2=k/M1 \n",
        "omega2_2=k/M2\n",
        "\n",
        "# Recordar que la longitud de equilibrio del resorte suave es\n",
        "\n",
        "# ell0=eq2-eq1 "
      ],
      "execution_count": null,
      "outputs": []
    },
    {
      "cell_type": "code",
      "metadata": {
        "id": "ZYn_WtQrzP-P"
      },
      "source": [
        "# Creación de un arreglo de muestras de tiempo entre 0 y t_max \n",
        "# con una separación entre muestras (período de muestreo) dt (s)\n",
        "\n",
        "t_max=30\n",
        "dt = 0.05\n",
        "t = np.arange(0.0,t_max, dt)"
      ],
      "execution_count": null,
      "outputs": []
    },
    {
      "cell_type": "markdown",
      "metadata": {
        "id": "VNtXD2uXqbAT"
      },
      "source": [
        "### Condiciones iniciales\n",
        "\n",
        "* Para el modo lento (simétrico): desplazamientos iniciales idénticos y velocidades nulas\n",
        "\n",
        "* Para el modo rápido (antisimétrico): desplazamientos de igual magnitud y signo opuesto, velocidades nulas "
      ]
    },
    {
      "cell_type": "code",
      "metadata": {
        "id": "8VtWwgeqYHsR"
      },
      "source": [
        "# x10 and x20 Posiciones iniciales\n",
        "# v10 and v20 Velocidades iniciales \n",
        "#x10 = 0.+eq1\n",
        "\n",
        "# Modo simétrico:\n",
        "#x10=0.5\n",
        "#v10 = 0.0\n",
        "#x20=0.5\n",
        "#v20 = 0.0\n",
        "\n",
        "# Modo antisimétrico\n",
        "x10=0.5\n",
        "v10 = 0.0\n",
        "x20=-0.5\n",
        "v20 = 0.0"
      ],
      "execution_count": null,
      "outputs": []
    },
    {
      "cell_type": "code",
      "metadata": {
        "id": "FK1FaM8p0X9r"
      },
      "source": [
        "# El estado inicial debe introducirse como un arreglo\n",
        "\n",
        "\n",
        "# initial state\n",
        "xi = [x10, v10, x20, v20]"
      ],
      "execution_count": null,
      "outputs": []
    },
    {
      "cell_type": "markdown",
      "metadata": {
        "id": "khNc2NyK0gpC"
      },
      "source": [
        "Como integrador utilizaremos la funcion \n",
        "**odeint** de la biblioteca **scipy.integrate**\n",
        "\n",
        "---\n",
        "\n"
      ]
    },
    {
      "cell_type": "code",
      "metadata": {
        "id": "gAZeGfmwX8Hc"
      },
      "source": [
        "y = integrate.odeint(derivs, xi, t)\n",
        "\n",
        "x_1 = y[:, 0]\n",
        "\n",
        "x_1 = [s + eq_1 for s in x_1]\n",
        "\n",
        "x_2 = y[:, 2]\n",
        "\n",
        "x_2 = [x + eq_2 for x in x_2]"
      ],
      "execution_count": null,
      "outputs": []
    },
    {
      "cell_type": "markdown",
      "metadata": {
        "id": "wnAB6gzW05cb"
      },
      "source": [
        "Animación"
      ]
    },
    {
      "cell_type": "code",
      "metadata": {
        "id": "A335-_iRX3op",
        "colab": {
          "base_uri": "https://localhost:8080/",
          "height": 269
        },
        "outputId": "f954d6ec-0fc2-4a00-92a4-60393031fccf"
      },
      "source": [
        "fig = plt.figure()\n",
        "\n",
        "ax = fig.add_subplot(111, autoscale_on=False, xlim=(0., 4.), ylim=(-0.2, 0.2))\n",
        "ax.grid()\n",
        "\n",
        "line, = ax.plot([], [], 'o-', lw=2)\n",
        "time_template = 'time = %.1fs'\n",
        "time_text = ax.text(0.05, 0.9, '', transform=ax.transAxes)\n",
        "\n",
        "\n",
        "def init():\n",
        "    line.set_data([], [])\n",
        "    time_text.set_text('')\n",
        "    return line, time_text\n",
        "\n",
        "\n",
        "def animate(i):\n",
        "    thisx = [0, x_1[i], x_2[i],4.0]\n",
        "\n",
        "    line.set_data(thisx, 0)\n",
        "    time_text.set_text(time_template % (i*dt))\n",
        "    return line, time_text\n",
        "\n",
        "ani = animation.FuncAnimation(fig, animate, np.arange(1, len(y)),\n",
        "                              interval=25, blit=True, init_func=init)\n",
        "\n",
        "ani.save('xdouble_pendulum.mp4', fps=15)\n",
        "#plt.show()"
      ],
      "execution_count": null,
      "outputs": [
        {
          "output_type": "display_data",
          "data": {
            "image/png": "[encoded data removed]",
            "text/plain": [
              "<Figure size 432x288 with 1 Axes>"
            ]
          },
          "metadata": {
            "tags": [],
            "needs_background": "light"
          }
        }
      ]
    }
  ]
}